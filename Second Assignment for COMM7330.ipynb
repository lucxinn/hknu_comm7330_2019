{
 "cells": [
  {
   "cell_type": "markdown",
   "metadata": {},
   "source": [
    "# The Second Assignment :\n",
    "## Goals :\n",
    "## To build a program to convert *HongKong* floors to *Mainland China* version"
   ]
  },
  {
   "cell_type": "code",
   "execution_count": null,
   "metadata": {},
   "outputs": [],
   "source": [
    "def Convert(_floorNumHK):\n",
    "    temp = True\n",
    "    try: \n",
    "        _floorNumHK = int(_floorNumHK)\n",
    "        _floorNumMCN = _floorNumHK + 1\n",
    "        print('\\nHK Floor Number : {0} \\n'.format(_floorNumHK))\n",
    "        print('Mainland China Floor Number : {0} \\n'.format(_floorNumMCN))\n",
    "        temp = False\n",
    "    except:\n",
    "        if _floorNumHK == 'G' or _floorNumHK == 'g':\n",
    "            print('\\nHK Floor Number : G \\n')    # As a modification to the form of the input\n",
    "            print('Mainland China Floor Number : 1 \\n')\n",
    "            temp = False\n",
    "        else:\n",
    "            print('\\nYou did not input the floor correctly!\\nPlese try again')    \n",
    "    return temp\n",
    "        "
   ]
  },
  {
   "cell_type": "code",
   "execution_count": null,
   "metadata": {
    "scrolled": false
   },
   "outputs": [],
   "source": [
    "condition = True\n",
    "while condition == True:\n",
    "    floor = input('Input HK Floor Number : ')\n",
    "    condition = Convert(_floorNumHK = floor)"
   ]
  },
  {
   "cell_type": "code",
   "execution_count": null,
   "metadata": {},
   "outputs": [],
   "source": []
  }
 ],
 "metadata": {
  "kernelspec": {
   "display_name": "Python 3",
   "language": "python",
   "name": "python3"
  },
  "language_info": {
   "codemirror_mode": {
    "name": "ipython",
    "version": 3
   },
   "file_extension": ".py",
   "mimetype": "text/x-python",
   "name": "python",
   "nbconvert_exporter": "python",
   "pygments_lexer": "ipython3",
   "version": "3.7.3"
  }
 },
 "nbformat": 4,
 "nbformat_minor": 2
}
